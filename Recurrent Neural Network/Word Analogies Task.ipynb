{
 "cells": [
  {
   "cell_type": "markdown",
   "metadata": {},
   "source": [
    "# Word Analogies Task\n",
    "In the word analogy task, we complete the sentence \"a is to b as c is to __\". An example is 'man is to woman as king is to queen' . In detail, we are trying to find a word d, such that the associated word vectors ea,eb,ec,ed are related in the following manner: eb−ea≈ed−ec. We will measure the similarity between eb−ea and ed−ec using cosine similarity.\n",
    "\n",
    "man -> woman ::     prince -> princess\n",
    "\n",
    "italy -> italian ::     spain -> spanish\n",
    "\n",
    "india -> delhi ::     japan -> tokyo\n",
    "\n",
    "man -> woman ::     boy -> girl\n",
    "\n",
    "small -> smaller ::     large -> larger\n",
    "\n",
    "### Try it out\n",
    "man -> coder :: woman -> ______?"
   ]
  },
  {
   "cell_type": "code",
   "execution_count": 1,
   "metadata": {},
   "outputs": [],
   "source": [
    "import gensim\n",
    "from gensim.models import word2vec,KeyedVectors\n",
    "from sklearn.metrics.pairwise import cosine_similarity\n",
    "import matplotlib.pyplot as plt\n",
    "import numpy as np\n",
    "plt.style.use('seaborn')"
   ]
  },
  {
   "cell_type": "code",
   "execution_count": 2,
   "metadata": {},
   "outputs": [],
   "source": [
    "word_vector = KeyedVectors.load_word2vec_format('GoogleNews-vectors-negative300.bin',binary=True)"
   ]
  },
  {
   "cell_type": "code",
   "execution_count": 3,
   "metadata": {},
   "outputs": [],
   "source": [
    "def predict_word(a,b,c):\n",
    "    d = None\n",
    "    maxSimilarity = -9999\n",
    "    words = word_vector.vocab.keys()\n",
    "    \n",
    "    wa,wb,wc = word_vector[a],word_vector[b],word_vector[c]\n",
    "    \n",
    "    for word in words:\n",
    "        if word in [a,b,c]:\n",
    "            continue\n",
    "        \n",
    "        wv = word_vector[word]\n",
    "        simi = cosine_similarity([wv-wc],[wb-wa])\n",
    "        if simi>maxSimilarity:\n",
    "            d = word\n",
    "            maxSimilarity = simi\n",
    "    return d"
   ]
  },
  {
   "cell_type": "code",
   "execution_count": 4,
   "metadata": {},
   "outputs": [
    {
     "name": "stdout",
     "output_type": "stream",
     "text": [
      "princess\n",
      "Italian\n",
      "Ashok_Nagar\n",
      "girl\n",
      "larger\n"
     ]
    }
   ],
   "source": [
    "print(predict_word(\"man\",\"woman\",\"prince\"))\n",
    "print(predict_word(\"italy\",\"italian\",\"spain\"))\n",
    "print(predict_word(\"india\",\"delhi\",\"japan\"))\n",
    "print(predict_word(\"man\",\"woman\",\"boy\"))\n",
    "print(predict_word(\"small\",\"smaller\",\"large\"))"
   ]
  },
  {
   "cell_type": "code",
   "execution_count": 5,
   "metadata": {},
   "outputs": [
    {
     "name": "stdout",
     "output_type": "stream",
     "text": [
      "coders\n"
     ]
    }
   ],
   "source": [
    "print(predict_word(\"man\",\"coder\",\"woman\"))"
   ]
  },
  {
   "cell_type": "code",
   "execution_count": 6,
   "metadata": {},
   "outputs": [
    {
     "data": {
      "text/plain": [
       "[('coders', 0.5481727123260498),\n",
       " ('programmer', 0.5356243848800659),\n",
       " ('modder', 0.5022879242897034)]"
      ]
     },
     "execution_count": 6,
     "metadata": {},
     "output_type": "execute_result"
    }
   ],
   "source": [
    "word_vector.most_similar(positive=[\"man\",\"coder\"],negative=['woman'],topn=3)"
   ]
  },
  {
   "cell_type": "code",
   "execution_count": 10,
   "metadata": {},
   "outputs": [
    {
     "data": {
      "text/plain": [
       "[('Italian', 0.6607386469841003),\n",
       " ('Pietro', 0.5759972333908081),\n",
       " ('Stefano', 0.5594305396080017)]"
      ]
     },
     "execution_count": 10,
     "metadata": {},
     "output_type": "execute_result"
    }
   ],
   "source": [
    "word_vector.most_similar(positive=[\"Italy\",\"italian\"],negative=['Spain'],topn=3)"
   ]
  },
  {
   "cell_type": "code",
   "execution_count": 9,
   "metadata": {},
   "outputs": [
    {
     "data": {
      "text/plain": [
       "[('Mumbai', 0.6865626573562622),\n",
       " ('Kolkata', 0.6743088364601135),\n",
       " ('Bangalore', 0.6727702617645264)]"
      ]
     },
     "execution_count": 9,
     "metadata": {},
     "output_type": "execute_result"
    }
   ],
   "source": [
    "word_vector.most_similar(positive = [\"India\",\"Delhi\"],negative=[\"Japan\"],topn=3)"
   ]
  },
  {
   "cell_type": "code",
   "execution_count": null,
   "metadata": {},
   "outputs": [],
   "source": []
  }
 ],
 "metadata": {
  "kernelspec": {
   "display_name": "Python 3",
   "language": "python",
   "name": "python3"
  },
  "language_info": {
   "codemirror_mode": {
    "name": "ipython",
    "version": 3
   },
   "file_extension": ".py",
   "mimetype": "text/x-python",
   "name": "python",
   "nbconvert_exporter": "python",
   "pygments_lexer": "ipython3",
   "version": "3.7.7"
  }
 },
 "nbformat": 4,
 "nbformat_minor": 4
}
