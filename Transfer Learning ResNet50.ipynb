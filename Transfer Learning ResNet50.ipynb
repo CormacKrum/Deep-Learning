{
 "cells": [
  {
   "cell_type": "code",
   "execution_count": 1,
   "metadata": {},
   "outputs": [],
   "source": [
    "from tensorflow.keras.preprocessing import image\n",
    "from tensorflow.keras.applications.resnet50 import preprocess_input, decode_predictions,ResNet50\n",
    "import numpy as np"
   ]
  },
  {
   "cell_type": "code",
   "execution_count": 2,
   "metadata": {},
   "outputs": [
    {
     "name": "stdout",
     "output_type": "stream",
     "text": [
      "Downloading data from https://github.com/keras-team/keras-applications/releases/download/resnet/resnet50_weights_tf_dim_ordering_tf_kernels.h5\n",
      "102973440/102967424 [==============================] - 106s 1us/step\n"
     ]
    }
   ],
   "source": [
    "model = ResNet50(weights='imagenet')"
   ]
  },
  {
   "cell_type": "code",
   "execution_count": 11,
   "metadata": {},
   "outputs": [
    {
     "name": "stdout",
     "output_type": "stream",
     "text": [
      "Predicted: [('n02504458', 'African_elephant', 0.6691201), ('n01871265', 'tusker', 0.19452086), ('n02504013', 'Indian_elephant', 0.12981373)]\n",
      "Predicted: [('n07248320', 'book_jacket', 0.60251737), ('n06359193', 'web_site', 0.059153166), ('n06596364', 'comic_book', 0.020598741)]\n",
      "Predicted: [('n02892201', 'brass', 0.38269308), ('n02910353', 'buckle', 0.090952545), ('n02699494', 'altar', 0.07676478)]\n",
      "Predicted: [('n03250847', 'drumstick', 0.06383784), ('n03272010', 'electric_guitar', 0.053323425), ('n02676566', 'acoustic_guitar', 0.04610698)]\n"
     ]
    }
   ],
   "source": [
    "for i in range(1,5):\n",
    "    img_path = 'image_{}.jpg'.format(i)\n",
    "    img = image.load_img(img_path, target_size=(224, 224))\n",
    "    x = image.img_to_array(img)\n",
    "    x = np.expand_dims(x, axis=0)\n",
    "    x = preprocess_input(x)\n",
    "\n",
    "    preds = model.predict(x)\n",
    "    print('Predicted:', decode_predictions(preds, top=3)[0])"
   ]
  },
  {
   "cell_type": "code",
   "execution_count": null,
   "metadata": {},
   "outputs": [],
   "source": []
  }
 ],
 "metadata": {
  "kernelspec": {
   "display_name": "Python 3",
   "language": "python",
   "name": "python3"
  },
  "language_info": {
   "codemirror_mode": {
    "name": "ipython",
    "version": 3
   },
   "file_extension": ".py",
   "mimetype": "text/x-python",
   "name": "python",
   "nbconvert_exporter": "python",
   "pygments_lexer": "ipython3",
   "version": "3.7.7"
  }
 },
 "nbformat": 4,
 "nbformat_minor": 4
}
