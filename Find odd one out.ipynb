{
 "cells": [
  {
   "cell_type": "markdown",
   "metadata": {},
   "source": [
    "# Word2Vec Model\n",
    "* Word2Vec Google's Pretrained Model\n",
    "* Contains vector representations of 50 billion words\n",
    "* Words which are similar in context have similar vectors\n",
    "* Distance/Similarity between two words can be measured using Cosine Distance\n",
    "\n",
    "# Applications\n",
    "* Text Similarity\n",
    "* Language Translation\n",
    "* Finding Odd Words\n",
    "* Word Analogies\n",
    "\n",
    "# Word Embeddings\n",
    "* Word embeddings are numerical representation of words, in the form of vectors.\n",
    "* Word2Vec Model represents each word as 300 Dimensional Vector\n",
    "* In this tutorial we are going to see how to use pre-trained word2vec model.\n",
    "* Model size is around 1.5 GB\n",
    "* We will work using Gensim, which is popular NLP Package.\n",
    "\n",
    "## Gensim's Word2Vec Model provides optimum implementation of\n",
    "\n",
    "1) CBOW Model : Efficient Estimation of Word Representations in Vector Space\n",
    "\n",
    "2) SkipGram Model : The recently introduced continuous Skip-gram model is an efficient method for learning high-quality distributed vector representations that \n",
    "capture a large number of precise syntactic and semantic word relationships. In this paper we present several extensions that improve both the quality of the \n",
    "vectors and the training speed. By subsampling of the frequent words we obtain significant speedup and also learn more regular word representations. \n",
    "We also describe a simple alternative to the hierarchical softmax called negative sampling. An inherent limitation of word representations is their indifference\n",
    "to word order and their inability to represent idiomatic phrases. For example, the meanings of \"Canada\" and \"Air\" cannot be easily combined to obtain \n",
    "\"Air Canada\". Motivated by this example, we present a simple method for finding phrases in text, and show that learning good vector representations \n",
    "for millions of phrases is possible.\n",
    "\n",
    "\n",
    " Word2Vec using Gensim\n",
    " \n",
    " Link https://radimrehurek.com/gensim/models/word2vec.html"
   ]
  },
  {
   "cell_type": "code",
   "execution_count": 1,
   "metadata": {},
   "outputs": [],
   "source": [
    "import gensim"
   ]
  },
  {
   "cell_type": "code",
   "execution_count": null,
   "metadata": {},
   "outputs": [],
   "source": []
  }
 ],
 "metadata": {
  "kernelspec": {
   "display_name": "Python 3",
   "language": "python",
   "name": "python3"
  },
  "language_info": {
   "codemirror_mode": {
    "name": "ipython",
    "version": 3
   },
   "file_extension": ".py",
   "mimetype": "text/x-python",
   "name": "python",
   "nbconvert_exporter": "python",
   "pygments_lexer": "ipython3",
   "version": "3.7.7"
  }
 },
 "nbformat": 4,
 "nbformat_minor": 4
}
